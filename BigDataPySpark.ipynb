{
  "nbformat": 4,
  "nbformat_minor": 0,
  "metadata": {
    "colab": {
      "provenance": [],
      "authorship_tag": "ABX9TyNRAuxnl/hvvmyTqCYZBVcy",
      "include_colab_link": true
    },
    "kernelspec": {
      "name": "python3",
      "display_name": "Python 3"
    },
    "language_info": {
      "name": "python"
    }
  },
  "cells": [
    {
      "cell_type": "markdown",
      "metadata": {
        "id": "view-in-github",
        "colab_type": "text"
      },
      "source": [
        "<a href=\"https://colab.research.google.com/github/alifamarta/UTS-BigData/blob/main/BigDataPySpark.ipynb\" target=\"_parent\"><img src=\"https://colab.research.google.com/assets/colab-badge.svg\" alt=\"Open In Colab\"/></a>"
      ]
    },
    {
      "cell_type": "code",
      "execution_count": 2,
      "metadata": {
        "colab": {
          "base_uri": "https://localhost:8080/"
        },
        "id": "bRkjLQvv2x9Z",
        "outputId": "8e596e03-0981-4701-ab8f-babc4e25bc9b"
      },
      "outputs": [
        {
          "output_type": "stream",
          "name": "stdout",
          "text": [
            "restoran.csv  \u001b[0m\u001b[01;34msample_data\u001b[0m/\n"
          ]
        }
      ],
      "source": [
        "ls"
      ]
    },
    {
      "cell_type": "code",
      "source": [
        "pwd"
      ],
      "metadata": {
        "colab": {
          "base_uri": "https://localhost:8080/",
          "height": 36
        },
        "id": "V6-cji293AbR",
        "outputId": "e9bf5682-5723-469a-e657-170e317ffa63"
      },
      "execution_count": 3,
      "outputs": [
        {
          "output_type": "execute_result",
          "data": {
            "text/plain": [
              "'/content'"
            ],
            "application/vnd.google.colaboratory.intrinsic+json": {
              "type": "string"
            }
          },
          "metadata": {},
          "execution_count": 3
        }
      ]
    },
    {
      "cell_type": "code",
      "source": [
        "!apt-get install openjdk-8-jdk-headless -qq > /dev/null\n",
        "!wget -q http://archive.apache.org/dist/spark/spark-3.5.1/spark-3.5.1-bin-hadoop3.tgz\n",
        "!tar xf spark-3.5.1-bin-hadoop3.tgz\n",
        "!pip install -q findspark"
      ],
      "metadata": {
        "id": "cWV8gqYB3BRo"
      },
      "execution_count": 4,
      "outputs": []
    },
    {
      "cell_type": "code",
      "source": [
        "import os\n",
        "os.environ[\"JAVA_HOME\"] = \"/usr/lib/jvm/java-8-openjdk-amd64\"\n",
        "os.environ[\"SPARK_HOME\"] = \"/content/spark-3.5.1-bin-hadoop3\""
      ],
      "metadata": {
        "id": "b4TNUBCg3DGe"
      },
      "execution_count": 5,
      "outputs": []
    },
    {
      "cell_type": "code",
      "source": [
        "import findspark\n",
        "findspark.init()\n",
        "from pyspark.sql import SparkSession\n",
        "spark = SparkSession.builder.master(\"local[*]\").getOrCreate()\n",
        "spark.conf.set(\"spark.sql.repl.eagerEval.enabled\", True) # Property used to format output tables better\n",
        "spark"
      ],
      "metadata": {
        "colab": {
          "base_uri": "https://localhost:8080/",
          "height": 222
        },
        "id": "sBNMvC2A3Gdj",
        "outputId": "def6cfe5-9880-4a45-eaf0-76e247245dd3"
      },
      "execution_count": 6,
      "outputs": [
        {
          "output_type": "execute_result",
          "data": {
            "text/plain": [
              "<pyspark.sql.session.SparkSession at 0x7db17a65dd20>"
            ],
            "text/html": [
              "\n",
              "            <div>\n",
              "                <p><b>SparkSession - in-memory</b></p>\n",
              "                \n",
              "        <div>\n",
              "            <p><b>SparkContext</b></p>\n",
              "\n",
              "            <p><a href=\"http://86537c3c9e2d:4040\">Spark UI</a></p>\n",
              "\n",
              "            <dl>\n",
              "              <dt>Version</dt>\n",
              "                <dd><code>v3.5.1</code></dd>\n",
              "              <dt>Master</dt>\n",
              "                <dd><code>local[*]</code></dd>\n",
              "              <dt>AppName</dt>\n",
              "                <dd><code>pyspark-shell</code></dd>\n",
              "            </dl>\n",
              "        </div>\n",
              "        \n",
              "            </div>\n",
              "        "
            ]
          },
          "metadata": {},
          "execution_count": 6
        }
      ]
    },
    {
      "cell_type": "code",
      "source": [
        "# Downloading and preprocessing restoran.csv Data downloaded origianlly from https://perso.telecom-paristech.fr/eagan/class/igr204/datasets\n",
        "!wget https://jacobceles.github.io/knowledge_repo/colab_and_pyspark/restoran.csv"
      ],
      "metadata": {
        "colab": {
          "base_uri": "https://localhost:8080/"
        },
        "id": "Zy32o_oB3KhH",
        "outputId": "e109f650-5383-40c3-816a-9f64eb10a156"
      },
      "execution_count": 7,
      "outputs": [
        {
          "output_type": "stream",
          "name": "stdout",
          "text": [
            "--2024-11-03 07:20:30--  https://jacobceles.github.io/knowledge_repo/colab_and_pyspark/restoran.csv\n",
            "Resolving jacobceles.github.io (jacobceles.github.io)... 185.199.111.153, 185.199.108.153, 185.199.109.153, ...\n",
            "Connecting to jacobceles.github.io (jacobceles.github.io)|185.199.111.153|:443... connected.\n",
            "HTTP request sent, awaiting response... 301 Moved Permanently\n",
            "Location: https://jacobcelestine.com/knowledge_repo/colab_and_pyspark/restoran.csv [following]\n",
            "--2024-11-03 07:20:30--  https://jacobcelestine.com/knowledge_repo/colab_and_pyspark/restoran.csv\n",
            "Resolving jacobcelestine.com (jacobcelestine.com)... 185.199.108.153, 185.199.109.153, 185.199.110.153, ...\n",
            "Connecting to jacobcelestine.com (jacobcelestine.com)|185.199.108.153|:443... connected.\n",
            "HTTP request sent, awaiting response... 404 Not Found\n",
            "2024-11-03 07:20:31 ERROR 404: Not Found.\n",
            "\n"
          ]
        }
      ]
    },
    {
      "cell_type": "code",
      "source": [
        "!ls"
      ],
      "metadata": {
        "colab": {
          "base_uri": "https://localhost:8080/"
        },
        "id": "v-7JwPbS3Mrz",
        "outputId": "aec31296-8ae1-489c-f0c9-07c692b41e79"
      },
      "execution_count": 8,
      "outputs": [
        {
          "output_type": "stream",
          "name": "stdout",
          "text": [
            "restoran.csv  sample_data  spark-3.5.1-bin-hadoop3  spark-3.5.1-bin-hadoop3.tgz\n"
          ]
        }
      ]
    },
    {
      "cell_type": "code",
      "source": [
        "# Load data from csv to a dataframe.\n",
        "# header=True means the first row is a header\n",
        "# sep=';' means the column are seperated using ''\n",
        "df = spark.read.csv('restoran.csv', header=True, sep=\";\")\n",
        "df.show(5)"
      ],
      "metadata": {
        "colab": {
          "base_uri": "https://localhost:8080/"
        },
        "id": "z7ArMtzk3Mur",
        "outputId": "29da4d00-9137-4032-8d34-86a4b9c498a7"
      },
      "execution_count": 9,
      "outputs": [
        {
          "output_type": "stream",
          "name": "stdout",
          "text": [
            "+----------+-----------+---------+---+----------+---------+\n",
            "|    Minggu|Burger King|Sushi Tei|KFC|McDonald's|Pizza Hut|\n",
            "+----------+-----------+---------+---+----------+---------+\n",
            "|27/10/2019|         17|        8| 34|        31|       22|\n",
            "|03/11/2019|         18|        9| 42|        35|       44|\n",
            "|10/11/2019|         24|        8| 50|        34|       41|\n",
            "|17/11/2019|         13|        8| 36|        31|       26|\n",
            "|24/11/2019|         16|        7| 44|        33|       26|\n",
            "+----------+-----------+---------+---+----------+---------+\n",
            "only showing top 5 rows\n",
            "\n"
          ]
        }
      ]
    },
    {
      "cell_type": "code",
      "source": [
        "from google.colab import drive\n",
        "drive.mount('/content/drive')"
      ],
      "metadata": {
        "colab": {
          "base_uri": "https://localhost:8080/"
        },
        "id": "tfUMBuve3XEJ",
        "outputId": "d4ef5b02-c9c5-472c-abee-5136b4d1f2fb"
      },
      "execution_count": 10,
      "outputs": [
        {
          "output_type": "stream",
          "name": "stdout",
          "text": [
            "Mounted at /content/drive\n"
          ]
        }
      ]
    },
    {
      "cell_type": "code",
      "source": [
        "df.show(5, truncate=False)"
      ],
      "metadata": {
        "colab": {
          "base_uri": "https://localhost:8080/"
        },
        "id": "WCJHnak-3ZUb",
        "outputId": "8fe3b5a7-094d-4d3d-a640-5674688de311"
      },
      "execution_count": 11,
      "outputs": [
        {
          "output_type": "stream",
          "name": "stdout",
          "text": [
            "+----------+-----------+---------+---+----------+---------+\n",
            "|Minggu    |Burger King|Sushi Tei|KFC|McDonald's|Pizza Hut|\n",
            "+----------+-----------+---------+---+----------+---------+\n",
            "|27/10/2019|17         |8        |34 |31        |22       |\n",
            "|03/11/2019|18         |9        |42 |35        |44       |\n",
            "|10/11/2019|24         |8        |50 |34        |41       |\n",
            "|17/11/2019|13         |8        |36 |31        |26       |\n",
            "|24/11/2019|16         |7        |44 |33        |26       |\n",
            "+----------+-----------+---------+---+----------+---------+\n",
            "only showing top 5 rows\n",
            "\n"
          ]
        }
      ]
    },
    {
      "cell_type": "code",
      "source": [
        "df.limit(5)"
      ],
      "metadata": {
        "colab": {
          "base_uri": "https://localhost:8080/",
          "height": 156
        },
        "id": "JlccM6-i3ZW8",
        "outputId": "b6140230-2c04-4822-ab34-45b72805d06e"
      },
      "execution_count": 12,
      "outputs": [
        {
          "output_type": "execute_result",
          "data": {
            "text/plain": [
              "+----------+-----------+---------+---+----------+---------+\n",
              "|    Minggu|Burger King|Sushi Tei|KFC|McDonald's|Pizza Hut|\n",
              "+----------+-----------+---------+---+----------+---------+\n",
              "|27/10/2019|         17|        8| 34|        31|       22|\n",
              "|03/11/2019|         18|        9| 42|        35|       44|\n",
              "|10/11/2019|         24|        8| 50|        34|       41|\n",
              "|17/11/2019|         13|        8| 36|        31|       26|\n",
              "|24/11/2019|         16|        7| 44|        33|       26|\n",
              "+----------+-----------+---------+---+----------+---------+"
            ],
            "text/html": [
              "<table border='1'>\n",
              "<tr><th>Minggu</th><th>Burger King</th><th>Sushi Tei</th><th>KFC</th><th>McDonald's</th><th>Pizza Hut</th></tr>\n",
              "<tr><td>27/10/2019</td><td>17</td><td>8</td><td>34</td><td>31</td><td>22</td></tr>\n",
              "<tr><td>03/11/2019</td><td>18</td><td>9</td><td>42</td><td>35</td><td>44</td></tr>\n",
              "<tr><td>10/11/2019</td><td>24</td><td>8</td><td>50</td><td>34</td><td>41</td></tr>\n",
              "<tr><td>17/11/2019</td><td>13</td><td>8</td><td>36</td><td>31</td><td>26</td></tr>\n",
              "<tr><td>24/11/2019</td><td>16</td><td>7</td><td>44</td><td>33</td><td>26</td></tr>\n",
              "</table>\n"
            ]
          },
          "metadata": {},
          "execution_count": 12
        }
      ]
    },
    {
      "cell_type": "code",
      "source": [
        "df.columns"
      ],
      "metadata": {
        "colab": {
          "base_uri": "https://localhost:8080/"
        },
        "id": "cWDOF3wk31lF",
        "outputId": "466a7201-14fe-40e4-9bc0-16dcf2097712"
      },
      "execution_count": 13,
      "outputs": [
        {
          "output_type": "execute_result",
          "data": {
            "text/plain": [
              "['Minggu', 'Burger King', 'Sushi Tei', 'KFC', \"McDonald's\", 'Pizza Hut']"
            ]
          },
          "metadata": {},
          "execution_count": 13
        }
      ]
    },
    {
      "cell_type": "code",
      "source": [
        "df.printSchema()"
      ],
      "metadata": {
        "colab": {
          "base_uri": "https://localhost:8080/"
        },
        "id": "OtyRrG_P35XK",
        "outputId": "74a6d336-412f-4a69-8536-f62f631bd68f"
      },
      "execution_count": 14,
      "outputs": [
        {
          "output_type": "stream",
          "name": "stdout",
          "text": [
            "root\n",
            " |-- Minggu: string (nullable = true)\n",
            " |-- Burger King: string (nullable = true)\n",
            " |-- Sushi Tei: string (nullable = true)\n",
            " |-- KFC: string (nullable = true)\n",
            " |-- McDonald's: string (nullable = true)\n",
            " |-- Pizza Hut: string (nullable = true)\n",
            "\n"
          ]
        }
      ]
    },
    {
      "cell_type": "code",
      "source": [
        "df = spark.read.csv('restoran.csv', header=True, sep=\";\", inferSchema=True)\n",
        "df.printSchema()"
      ],
      "metadata": {
        "colab": {
          "base_uri": "https://localhost:8080/"
        },
        "id": "sy7vYH-539kx",
        "outputId": "1c61529c-63f1-4041-df24-d33e69ab4133"
      },
      "execution_count": 15,
      "outputs": [
        {
          "output_type": "stream",
          "name": "stdout",
          "text": [
            "root\n",
            " |-- Minggu: string (nullable = true)\n",
            " |-- Burger King: integer (nullable = true)\n",
            " |-- Sushi Tei: integer (nullable = true)\n",
            " |-- KFC: integer (nullable = true)\n",
            " |-- McDonald's: integer (nullable = true)\n",
            " |-- Pizza Hut: integer (nullable = true)\n",
            "\n"
          ]
        }
      ]
    },
    {
      "cell_type": "code",
      "source": [
        "from pyspark.sql.types import *\n",
        "df.columns"
      ],
      "metadata": {
        "colab": {
          "base_uri": "https://localhost:8080/"
        },
        "id": "lYjLP0AX3_yC",
        "outputId": "1d4a65a2-8e39-4982-dd14-e0a36bccba23"
      },
      "execution_count": 16,
      "outputs": [
        {
          "output_type": "execute_result",
          "data": {
            "text/plain": [
              "['Minggu', 'Burger King', 'Sushi Tei', 'KFC', \"McDonald's\", 'Pizza Hut']"
            ]
          },
          "metadata": {},
          "execution_count": 16
        }
      ]
    },
    {
      "cell_type": "code",
      "source": [
        "# Creating a list of the schema in the format column_name, data_type\n",
        "labels = [\n",
        "     ('Minggu',StringType()),\n",
        "     ('Burger King',IntegerType()),\n",
        "     ('Sushi Tei',IntegerType()),\n",
        "     ('KFC',IntegerType()),\n",
        "     (\"McDonald's\",IntegerType()),\n",
        "     ('Pizza Hut',IntegerType())\n",
        "]"
      ],
      "metadata": {
        "id": "Bn_QrgG04Dyq"
      },
      "execution_count": 17,
      "outputs": []
    },
    {
      "cell_type": "code",
      "source": [
        "# Creating the schema that will be passed when reading the csv\n",
        "schema = StructType([StructField (x[0], x[1], True) for x in labels])\n",
        "schema"
      ],
      "metadata": {
        "colab": {
          "base_uri": "https://localhost:8080/"
        },
        "id": "QARefDWG4naH",
        "outputId": "eacc75ec-a8cd-4d91-f583-ae8bdd48b5e1"
      },
      "execution_count": 18,
      "outputs": [
        {
          "output_type": "execute_result",
          "data": {
            "text/plain": [
              "StructType([StructField('Minggu', StringType(), True), StructField('Burger King', IntegerType(), True), StructField('Sushi Tei', IntegerType(), True), StructField('KFC', IntegerType(), True), StructField('McDonald's', IntegerType(), True), StructField('Pizza Hut', IntegerType(), True)])"
            ]
          },
          "metadata": {},
          "execution_count": 18
        }
      ]
    },
    {
      "cell_type": "code",
      "source": [
        "df = spark.read.csv('restoran.csv', header=True, sep=\";\", schema=schema)\n",
        "df.printSchema()\n",
        "# The schema comes as we gave!"
      ],
      "metadata": {
        "colab": {
          "base_uri": "https://localhost:8080/"
        },
        "id": "qnXokn504qb2",
        "outputId": "24fb9a4f-df06-4e9e-cf6c-0b80a9ee39ae"
      },
      "execution_count": 19,
      "outputs": [
        {
          "output_type": "stream",
          "name": "stdout",
          "text": [
            "root\n",
            " |-- Minggu: string (nullable = true)\n",
            " |-- Burger King: integer (nullable = true)\n",
            " |-- Sushi Tei: integer (nullable = true)\n",
            " |-- KFC: integer (nullable = true)\n",
            " |-- McDonald's: integer (nullable = true)\n",
            " |-- Pizza Hut: integer (nullable = true)\n",
            "\n"
          ]
        }
      ]
    },
    {
      "cell_type": "code",
      "source": [
        "df.show(truncate=False)"
      ],
      "metadata": {
        "colab": {
          "base_uri": "https://localhost:8080/"
        },
        "id": "Tf9382KO4q_y",
        "outputId": "3052a67c-a476-40fc-f123-ee1382c8f917"
      },
      "execution_count": 20,
      "outputs": [
        {
          "output_type": "stream",
          "name": "stdout",
          "text": [
            "+----------+-----------+---------+---+----------+---------+\n",
            "|Minggu    |Burger King|Sushi Tei|KFC|McDonald's|Pizza Hut|\n",
            "+----------+-----------+---------+---+----------+---------+\n",
            "|27/10/2019|17         |8        |34 |31        |22       |\n",
            "|03/11/2019|18         |9        |42 |35        |44       |\n",
            "|10/11/2019|24         |8        |50 |34        |41       |\n",
            "|17/11/2019|13         |8        |36 |31        |26       |\n",
            "|24/11/2019|16         |7        |44 |33        |26       |\n",
            "|01/12/2019|17         |10       |34 |28        |27       |\n",
            "|08/12/2019|15         |9        |38 |29        |29       |\n",
            "|15/12/2019|16         |9        |42 |33        |31       |\n",
            "|22/12/2019|18         |12       |47 |36        |34       |\n",
            "|29/12/2019|16         |10       |52 |37        |39       |\n",
            "|05/01/2020|13         |8        |33 |25        |26       |\n",
            "|12/01/2020|14         |7        |37 |25        |24       |\n",
            "|19/01/2020|14         |8        |48 |29        |25       |\n",
            "|26/01/2020|15         |8        |42 |29        |27       |\n",
            "|02/02/2020|11         |6        |37 |27        |24       |\n",
            "|09/02/2020|12         |7        |46 |30        |28       |\n",
            "|16/02/2020|14         |6        |43 |32        |30       |\n",
            "|23/02/2020|13         |8        |44 |32        |32       |\n",
            "|01/03/2020|14         |7        |34 |29        |28       |\n",
            "|08/03/2020|14         |6        |41 |29        |24       |\n",
            "+----------+-----------+---------+---+----------+---------+\n",
            "only showing top 20 rows\n",
            "\n"
          ]
        }
      ]
    },
    {
      "cell_type": "code",
      "source": [
        "# analisa pencarian restoran yang dicari lebih dari 10\n",
        "from pyspark.sql.functions import col\n",
        "\n",
        "df = spark.read.csv('restoran.csv', header=True, sep=\";\", inferSchema=True)\n",
        "res1 = df.filter((col('KFC')>10))\n",
        "res2 = df.filter((col('Pizza Hut')>10))\n",
        "res3 = df.filter((col('Burger King')>10))\n",
        "res4 = df.filter((col('Sushi Tei')>10))\n",
        "res5 = df.filter((col(\"McDonald's\")>10))\n",
        "print(\"KFC searches that are over 10: \"+str(res1.count()))\n",
        "print(\"Pizza Hut searches that are over 10: \"+str(res2.count()))\n",
        "print(\"Burger King searches that are over 10: \"+str(res3.count()))\n",
        "print(\"Sushi Tei searches that are over 10: \"+str(res4.count()))\n",
        "print(\"McDonald's searches that are over 10: \"+str(res5.count()))\n"
      ],
      "metadata": {
        "colab": {
          "base_uri": "https://localhost:8080/"
        },
        "id": "FtPjYt-p41z3",
        "outputId": "d87392cf-258e-4e83-e6f5-5571caf74e25"
      },
      "execution_count": 27,
      "outputs": [
        {
          "output_type": "stream",
          "name": "stdout",
          "text": [
            "KFC searches that are over 10: 262\n",
            "Pizza Hut searches that are over 10: 233\n",
            "Burger King searches that are over 10: 47\n",
            "Sushi Tei searches that are over 10: 11\n",
            "McDonald's searches that are over 10: 262\n"
          ]
        }
      ]
    }
  ]
}